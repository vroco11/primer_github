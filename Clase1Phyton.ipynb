{
  "nbformat": 4,
  "nbformat_minor": 0,
  "metadata": {
    "colab": {
      "name": "Untitled0.ipynb",
      "provenance": [],
      "authorship_tag": "ABX9TyPCoSvxCpQGOQia4CFIJk4c",
      "include_colab_link": true
    },
    "kernelspec": {
      "name": "python3",
      "display_name": "Python 3"
    },
    "language_info": {
      "name": "python"
    }
  },
  "cells": [
    {
      "cell_type": "markdown",
      "metadata": {
        "id": "view-in-github",
        "colab_type": "text"
      },
      "source": [
        "<a href=\"https://colab.research.google.com/github/vroco11/primer_github/blob/master/Clase1Phyton.ipynb\" target=\"_parent\"><img src=\"https://colab.research.google.com/assets/colab-badge.svg\" alt=\"Open In Colab\"/></a>"
      ]
    },
    {
      "cell_type": "code",
      "execution_count": 15,
      "metadata": {
        "id": "jDidbSpH5Nta",
        "colab": {
          "base_uri": "https://localhost:8080/"
        },
        "outputId": "b1cce0b7-bc9a-447c-e025-fc60936287bc"
      },
      "outputs": [
        {
          "output_type": "stream",
          "name": "stdout",
          "text": [
            "<class 'int'>\n",
            "5\n"
          ]
        }
      ],
      "source": [
        "#Trabajando con números\n",
        "numero = 5\n",
        "print(type(numero))\n",
        "print (numero)\n"
      ]
    },
    {
      "cell_type": "code",
      "source": [
        "# Trabajando con texto\n",
        "texto = \"bienvenidos a clases\"\n",
        "print(type(texto))\n",
        "print (texto)"
      ],
      "metadata": {
        "colab": {
          "base_uri": "https://localhost:8080/"
        },
        "id": "2dMVK6TMnJ1L",
        "outputId": "bf17f270-875f-4c96-d6c3-bbdfd10a2bb0"
      },
      "execution_count": 14,
      "outputs": [
        {
          "output_type": "stream",
          "name": "stdout",
          "text": [
            "<class 'str'>\n",
            "bienvenidos a clases\n"
          ]
        }
      ]
    },
    {
      "cell_type": "code",
      "source": [
        "# Trabajando con booleanos\n",
        "boolean = True or False\n",
        "print(type(boolean))\n",
        "print(boolean)"
      ],
      "metadata": {
        "colab": {
          "base_uri": "https://localhost:8080/"
        },
        "id": "Es718WstnFIn",
        "outputId": "573f0ec1-3bce-4eec-d825-a419044a8305"
      },
      "execution_count": 13,
      "outputs": [
        {
          "output_type": "stream",
          "name": "stdout",
          "text": [
            "<class 'bool'>\n",
            "True\n"
          ]
        }
      ]
    },
    {
      "cell_type": "code",
      "source": [
        "#Calculando el mod\n",
        "modulo = 19 % 5\n",
        "print(modulo)"
      ],
      "metadata": {
        "colab": {
          "base_uri": "https://localhost:8080/"
        },
        "id": "FXN1deOYm_Ha",
        "outputId": "dbb92de0-4dba-43d3-cd59-4d4f01531b0d"
      },
      "execution_count": 11,
      "outputs": [
        {
          "output_type": "stream",
          "name": "stdout",
          "text": [
            "4\n"
          ]
        }
      ]
    },
    {
      "cell_type": "code",
      "source": [
        "#Calculando una división entera\n",
        "division_entera = 19 // 5\n",
        "print(division_entera)"
      ],
      "metadata": {
        "colab": {
          "base_uri": "https://localhost:8080/"
        },
        "id": "fYIcsGaOm7D8",
        "outputId": "e19e86c2-23bf-4094-cf14-33b2803f567a"
      },
      "execution_count": 10,
      "outputs": [
        {
          "output_type": "stream",
          "name": "stdout",
          "text": [
            "3\n"
          ]
        }
      ]
    },
    {
      "cell_type": "code",
      "source": [
        "#Operadores lógicos\n",
        "\n",
        "# mayor igual que\n",
        "mayor_igual_que = 267 >= 487\n",
        "print(mayor_igual_que)"
      ],
      "metadata": {
        "colab": {
          "base_uri": "https://localhost:8080/"
        },
        "id": "xT7-VGQXmxkE",
        "outputId": "b791b651-428a-4e24-81cb-86b02b367854"
      },
      "execution_count": 8,
      "outputs": [
        {
          "output_type": "stream",
          "name": "stdout",
          "text": [
            "False\n"
          ]
        }
      ]
    },
    {
      "cell_type": "code",
      "source": [
        "# Distinto de\n",
        "distinto_de = 22 != 22\n",
        "print(distinto_de)\n"
      ],
      "metadata": {
        "colab": {
          "base_uri": "https://localhost:8080/"
        },
        "id": "nN42izTMmscI",
        "outputId": "eb6eb3e9-8535-4ba9-c6ce-7c8113854ff1"
      },
      "execution_count": 7,
      "outputs": [
        {
          "output_type": "stream",
          "name": "stdout",
          "text": [
            "False\n"
          ]
        }
      ]
    },
    {
      "cell_type": "markdown",
      "source": [
        ""
      ],
      "metadata": {
        "id": "cYKxvtcKmflp"
      }
    },
    {
      "cell_type": "code",
      "source": [
        "# Condicional if... else\n",
        "x = 284\n",
        "y = 847\n",
        "\n",
        "if x > y :\n",
        "  print (\"x > y\")\n",
        "elif x == y :\n",
        "  print(\"x es igual a y\")\n",
        "else:\n",
        "  print(\"x es menor que y\")\n"
      ],
      "metadata": {
        "colab": {
          "base_uri": "https://localhost:8080/"
        },
        "id": "tWUwYwQYmgfx",
        "outputId": "76f0f75f-fb93-48d6-e3aa-474defb1e025"
      },
      "execution_count": 5,
      "outputs": [
        {
          "output_type": "stream",
          "name": "stdout",
          "text": [
            "x es menor que y\n"
          ]
        }
      ]
    },
    {
      "cell_type": "code",
      "source": [
        "# list/array\n",
        "# creando una lista vacia\n",
        "lista_vacia = []\n",
        "\n",
        "# creando una lista de texto\n",
        "print(\"##########lista_texto##########\")\n",
        "lista_texto = [\"leon\",\"cocodrilo\",\"puma\",\"elefante\"]\n",
        "print(len(lista_texto))\n",
        "print(lista_texto)\n",
        "print(lista_texto[0])\n",
        "\n",
        "# creando una lista de números\n",
        "print(\"##########lista_numeros##########\")\n",
        "lista_numeros = [2,34,456,232,65]\n",
        "print(len(lista_numeros))\n",
        "print(lista_numeros)\n",
        "print(lista_numeros[1])\n",
        "\n",
        "# creando lista de booleanos\n",
        "print(\"##########lista_booleanos##########\")\n",
        "lista_boolean = [True, True, False, True]\n",
        "print(len(lista_boolean))\n",
        "print(lista_boolean)\n",
        "print(lista_boolean[3])\n",
        "\n",
        "# lista de lista\n",
        "print(\"##########lista_dentro_de_una_lista##########\")\n",
        "lista_dentro_de_una_lista = [[1, 213, 23, 213, 1],[\"hola\",\"mundo\"]]\n",
        "print(lista_dentro_de_una_lista)\n",
        "\n",
        "\n",
        "## Agregando datos a la lista\n",
        "print(\"##########lista_vacia##########\")\n",
        "lista_vacia.append(\"no me gusta el chocolate\")\n",
        "lista_vacia.append(\"salta que hace frio\")\n",
        "lista_vacia.extend(lista_texto)\n",
        "lista_vacia.insert(4, \"las plantas están verdes\")\n",
        "print(len(lista_vacia))\n",
        "print(lista_vacia)\n",
        "\n",
        "\n",
        "\n",
        "\n",
        "\n",
        "\n",
        "\n",
        "\n",
        "\n"
      ],
      "metadata": {
        "colab": {
          "base_uri": "https://localhost:8080/"
        },
        "id": "doinDjtdnOVD",
        "outputId": "7560dd14-ee80-45f3-8591-7165cf19de76"
      },
      "execution_count": 21,
      "outputs": [
        {
          "output_type": "stream",
          "name": "stdout",
          "text": [
            "##########lista_texto##########\n",
            "4\n",
            "['leon', 'cocodrilo', 'puma', 'elefante']\n",
            "leon\n",
            "##########lista_numeros##########\n",
            "5\n",
            "[2, 34, 456, 232, 65]\n",
            "34\n",
            "##########lista_booleanos##########\n",
            "4\n",
            "[True, True, False, True]\n",
            "True\n",
            "##########lista_dentro_de_una_lista##########\n",
            "[[1, 213, 23, 213, 1], ['hola', 'mundo']]\n",
            "##########lista_vacia##########\n",
            "7\n",
            "['no me gusta el chocolate', 'salta que hace frio', 'leon', 'cocodrilo', 'las plantas están verdes', 'puma', 'elefante']\n"
          ]
        }
      ]
    }
  ]
}